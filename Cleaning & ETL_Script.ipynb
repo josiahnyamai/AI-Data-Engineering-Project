{
 "cells": [
  {
   "cell_type": "code",
   "execution_count": 244,
   "metadata": {},
   "outputs": [
    {
     "name": "stdout",
     "output_type": "stream",
     "text": [
      "Path to dataset files: C:\\Users\\Administrator\\.cache\\kagglehub\\datasets\\eustusmurea\\labtest-dataset\\versions\\1\n"
     ]
    }
   ],
   "source": [
    "import kagglehub\n",
    "\n",
    "path = kagglehub.dataset_download(\"eustusmurea/labtest-dataset\")\n",
    "\n",
    "print(\"Path to dataset files:\", path)"
   ]
  },
  {
   "cell_type": "markdown",
   "metadata": {},
   "source": [
    "## Import necessary libraries"
   ]
  },
  {
   "cell_type": "code",
   "execution_count": 245,
   "metadata": {},
   "outputs": [],
   "source": [
    "import seaborn as sns\n",
    "import pandas as pd\n",
    "import matplotlib.pyplot as plt"
   ]
  },
  {
   "cell_type": "markdown",
   "metadata": {},
   "source": [
    "## Reading the data using pandas"
   ]
  },
  {
   "cell_type": "code",
   "execution_count": 246,
   "metadata": {},
   "outputs": [
    {
     "data": {
      "text/html": [
       "<div>\n",
       "<style scoped>\n",
       "    .dataframe tbody tr th:only-of-type {\n",
       "        vertical-align: middle;\n",
       "    }\n",
       "\n",
       "    .dataframe tbody tr th {\n",
       "        vertical-align: top;\n",
       "    }\n",
       "\n",
       "    .dataframe thead th {\n",
       "        text-align: right;\n",
       "    }\n",
       "</style>\n",
       "<table border=\"1\" class=\"dataframe\">\n",
       "  <thead>\n",
       "    <tr style=\"text-align: right;\">\n",
       "      <th></th>\n",
       "      <th>order_id</th>\n",
       "      <th>signout_date</th>\n",
       "      <th>lab_number</th>\n",
       "      <th>assigned_to_pathologist</th>\n",
       "      <th>patient_name</th>\n",
       "      <th>facility</th>\n",
       "      <th>test_category</th>\n",
       "      <th>test</th>\n",
       "      <th>sub_category</th>\n",
       "      <th>receiving_centers</th>\n",
       "      <th>processing_centers</th>\n",
       "      <th>creation_date</th>\n",
       "      <th>service</th>\n",
       "      <th>price</th>\n",
       "      <th>payment_method</th>\n",
       "    </tr>\n",
       "  </thead>\n",
       "  <tbody>\n",
       "    <tr>\n",
       "      <th>0</th>\n",
       "      <td>NaN</td>\n",
       "      <td>2021-04-02</td>\n",
       "      <td>LAB81482</td>\n",
       "      <td>Dr. Smith</td>\n",
       "      <td>William Evans</td>\n",
       "      <td>St. Mary's Oncology</td>\n",
       "      <td>Immunohistochem</td>\n",
       "      <td>unknown</td>\n",
       "      <td>Leukemia</td>\n",
       "      <td>NaN</td>\n",
       "      <td>NaN</td>\n",
       "      <td>2022-05-09</td>\n",
       "      <td>routine</td>\n",
       "      <td>206</td>\n",
       "      <td>NaN</td>\n",
       "    </tr>\n",
       "    <tr>\n",
       "      <th>1</th>\n",
       "      <td>ORD6574</td>\n",
       "      <td>03/16/2021</td>\n",
       "      <td>LAB57052</td>\n",
       "      <td>Dr Jane Doe</td>\n",
       "      <td>NaN</td>\n",
       "      <td>NaN</td>\n",
       "      <td>Immunohistochem</td>\n",
       "      <td>ER/PR Testing</td>\n",
       "      <td>Lung Cancer</td>\n",
       "      <td>Unknown</td>\n",
       "      <td>Main Lab</td>\n",
       "      <td>06/20/2023</td>\n",
       "      <td>Consult</td>\n",
       "      <td>ksh 3833</td>\n",
       "      <td>NaN</td>\n",
       "    </tr>\n",
       "    <tr>\n",
       "      <th>2</th>\n",
       "      <td>ORD4814</td>\n",
       "      <td>02/17/2022</td>\n",
       "      <td>LAB31319</td>\n",
       "      <td>Justin Smith</td>\n",
       "      <td>Lori Diaz</td>\n",
       "      <td>General Hospital</td>\n",
       "      <td>Unknown</td>\n",
       "      <td>unknown</td>\n",
       "      <td>Leukemia</td>\n",
       "      <td>Lab B</td>\n",
       "      <td>central lab</td>\n",
       "      <td>10-Mar-25</td>\n",
       "      <td>Unknown</td>\n",
       "      <td>1016</td>\n",
       "      <td>Cash</td>\n",
       "    </tr>\n",
       "    <tr>\n",
       "      <th>3</th>\n",
       "      <td>ORD7572</td>\n",
       "      <td>08-Mar-21</td>\n",
       "      <td>LAB95909</td>\n",
       "      <td>Dr. Smyth</td>\n",
       "      <td>Juan Carrillo</td>\n",
       "      <td>St. Marys</td>\n",
       "      <td>Haematology</td>\n",
       "      <td>unknown</td>\n",
       "      <td>Lung CA</td>\n",
       "      <td>Main Lab</td>\n",
       "      <td>NaN</td>\n",
       "      <td>12-Jan-25</td>\n",
       "      <td>routine</td>\n",
       "      <td>2366</td>\n",
       "      <td>credit</td>\n",
       "    </tr>\n",
       "    <tr>\n",
       "      <th>4</th>\n",
       "      <td>ORD2796</td>\n",
       "      <td>23-Nov-20</td>\n",
       "      <td>LAB60019</td>\n",
       "      <td>Dr. John Lee</td>\n",
       "      <td>Joanna Tyler</td>\n",
       "      <td>Mercy Cancer Center</td>\n",
       "      <td>Cytology</td>\n",
       "      <td>unknown</td>\n",
       "      <td>Not Specified</td>\n",
       "      <td>NaN</td>\n",
       "      <td>Main Lab</td>\n",
       "      <td>2022-06-09</td>\n",
       "      <td>routine</td>\n",
       "      <td>ksh 0</td>\n",
       "      <td>Unknown</td>\n",
       "    </tr>\n",
       "  </tbody>\n",
       "</table>\n",
       "</div>"
      ],
      "text/plain": [
       "  order_id signout_date lab_number assigned_to_pathologist   patient_name  \\\n",
       "0      NaN   2021-04-02   LAB81482               Dr. Smith  William Evans   \n",
       "1  ORD6574   03/16/2021   LAB57052             Dr Jane Doe            NaN   \n",
       "2  ORD4814   02/17/2022   LAB31319            Justin Smith      Lori Diaz   \n",
       "3  ORD7572    08-Mar-21   LAB95909               Dr. Smyth  Juan Carrillo   \n",
       "4  ORD2796    23-Nov-20   LAB60019            Dr. John Lee   Joanna Tyler   \n",
       "\n",
       "              facility    test_category           test   sub_category  \\\n",
       "0  St. Mary's Oncology  Immunohistochem        unknown       Leukemia   \n",
       "1                  NaN  Immunohistochem  ER/PR Testing    Lung Cancer   \n",
       "2     General Hospital          Unknown        unknown       Leukemia   \n",
       "3            St. Marys      Haematology        unknown        Lung CA   \n",
       "4  Mercy Cancer Center         Cytology        unknown  Not Specified   \n",
       "\n",
       "  receiving_centers processing_centers creation_date  service     price  \\\n",
       "0               NaN                NaN    2022-05-09  routine       206   \n",
       "1           Unknown           Main Lab    06/20/2023  Consult  ksh 3833   \n",
       "2             Lab B        central lab     10-Mar-25  Unknown      1016   \n",
       "3          Main Lab                NaN     12-Jan-25  routine      2366   \n",
       "4               NaN           Main Lab    2022-06-09  routine     ksh 0   \n",
       "\n",
       "  payment_method  \n",
       "0            NaN  \n",
       "1            NaN  \n",
       "2           Cash  \n",
       "3         credit  \n",
       "4        Unknown  "
      ]
     },
     "execution_count": 246,
     "metadata": {},
     "output_type": "execute_result"
    }
   ],
   "source": [
    "data = pd.read_csv(r\"C:\\Users\\Administrator\\.cache\\kagglehub\\datasets\\eustusmurea\\labtest-dataset\\versions\\1\\messy_cancer_lab_dataset.csv\")\n",
    "\n",
    "data.head()\n"
   ]
  },
  {
   "cell_type": "markdown",
   "metadata": {},
   "source": [
    "## Getting the information about the dataset"
   ]
  },
  {
   "cell_type": "code",
   "execution_count": 247,
   "metadata": {},
   "outputs": [
    {
     "name": "stdout",
     "output_type": "stream",
     "text": [
      "<class 'pandas.core.frame.DataFrame'>\n",
      "RangeIndex: 10000 entries, 0 to 9999\n",
      "Data columns (total 15 columns):\n",
      " #   Column                   Non-Null Count  Dtype \n",
      "---  ------                   --------------  ----- \n",
      " 0   order_id                 9484 non-null   object\n",
      " 1   signout_date             9506 non-null   object\n",
      " 2   lab_number               9502 non-null   object\n",
      " 3   assigned_to_pathologist  8570 non-null   object\n",
      " 4   patient_name             9451 non-null   object\n",
      " 5   facility                 8736 non-null   object\n",
      " 6   test_category            10000 non-null  object\n",
      " 7   test                     9500 non-null   object\n",
      " 8   sub_category             8911 non-null   object\n",
      " 9   receiving_centers        8281 non-null   object\n",
      " 10  processing_centers       8390 non-null   object\n",
      " 11  creation_date            9756 non-null   object\n",
      " 12  service                  8499 non-null   object\n",
      " 13  price                    9303 non-null   object\n",
      " 14  payment_method           8603 non-null   object\n",
      "dtypes: object(15)\n",
      "memory usage: 1.1+ MB\n"
     ]
    }
   ],
   "source": [
    "data.info()"
   ]
  },
  {
   "cell_type": "markdown",
   "metadata": {},
   "source": [
    "## Checked for duplicates but found none"
   ]
  },
  {
   "cell_type": "code",
   "execution_count": 248,
   "metadata": {},
   "outputs": [
    {
     "data": {
      "text/plain": [
       "0"
      ]
     },
     "execution_count": 248,
     "metadata": {},
     "output_type": "execute_result"
    }
   ],
   "source": [
    "data.duplicated().sum()"
   ]
  },
  {
   "cell_type": "markdown",
   "metadata": {},
   "source": [
    "## Check sum of null values in each column"
   ]
  },
  {
   "cell_type": "code",
   "execution_count": 249,
   "metadata": {},
   "outputs": [
    {
     "data": {
      "text/plain": [
       "order_id                    516\n",
       "signout_date                494\n",
       "lab_number                  498\n",
       "assigned_to_pathologist    1430\n",
       "patient_name                549\n",
       "facility                   1264\n",
       "test_category                 0\n",
       "test                        500\n",
       "sub_category               1089\n",
       "receiving_centers          1719\n",
       "processing_centers         1610\n",
       "creation_date               244\n",
       "service                    1501\n",
       "price                       697\n",
       "payment_method             1397\n",
       "dtype: int64"
      ]
     },
     "execution_count": 249,
     "metadata": {},
     "output_type": "execute_result"
    }
   ],
   "source": [
    "data.isnull().sum()"
   ]
  },
  {
   "cell_type": "markdown",
   "metadata": {},
   "source": [
    "## Changing date columns into datetime format"
   ]
  },
  {
   "cell_type": "code",
   "execution_count": 250,
   "metadata": {},
   "outputs": [
    {
     "name": "stdout",
     "output_type": "stream",
     "text": [
      "<class 'pandas.core.frame.DataFrame'>\n",
      "RangeIndex: 10000 entries, 0 to 9999\n",
      "Data columns (total 15 columns):\n",
      " #   Column                   Non-Null Count  Dtype         \n",
      "---  ------                   --------------  -----         \n",
      " 0   order_id                 9484 non-null   object        \n",
      " 1   signout_date             9030 non-null   datetime64[ns]\n",
      " 2   lab_number               9502 non-null   object        \n",
      " 3   assigned_to_pathologist  8570 non-null   object        \n",
      " 4   patient_name             9451 non-null   object        \n",
      " 5   facility                 8736 non-null   object        \n",
      " 6   test_category            10000 non-null  object        \n",
      " 7   test                     9500 non-null   object        \n",
      " 8   sub_category             8911 non-null   object        \n",
      " 9   receiving_centers        8281 non-null   object        \n",
      " 10  processing_centers       8390 non-null   object        \n",
      " 11  creation_date            9493 non-null   datetime64[ns]\n",
      " 12  service                  8499 non-null   object        \n",
      " 13  price                    9303 non-null   object        \n",
      " 14  payment_method           8603 non-null   object        \n",
      "dtypes: datetime64[ns](2), object(13)\n",
      "memory usage: 1.1+ MB\n"
     ]
    }
   ],
   "source": [
    "date_columns = ['creation_date', 'signout_date']\n",
    "for coln in date_columns:\n",
    "    data[coln] = pd.to_datetime(data[coln], format='mixed', errors='coerce')\n",
    "data.info()\n"
   ]
  },
  {
   "cell_type": "markdown",
   "metadata": {},
   "source": [
    "## Sorting the data to check the earliest creation date"
   ]
  },
  {
   "cell_type": "code",
   "execution_count": 251,
   "metadata": {},
   "outputs": [
    {
     "data": {
      "text/html": [
       "<div>\n",
       "<style scoped>\n",
       "    .dataframe tbody tr th:only-of-type {\n",
       "        vertical-align: middle;\n",
       "    }\n",
       "\n",
       "    .dataframe tbody tr th {\n",
       "        vertical-align: top;\n",
       "    }\n",
       "\n",
       "    .dataframe thead th {\n",
       "        text-align: right;\n",
       "    }\n",
       "</style>\n",
       "<table border=\"1\" class=\"dataframe\">\n",
       "  <thead>\n",
       "    <tr style=\"text-align: right;\">\n",
       "      <th></th>\n",
       "      <th>order_id</th>\n",
       "      <th>signout_date</th>\n",
       "      <th>lab_number</th>\n",
       "      <th>assigned_to_pathologist</th>\n",
       "      <th>patient_name</th>\n",
       "      <th>facility</th>\n",
       "      <th>test_category</th>\n",
       "      <th>test</th>\n",
       "      <th>sub_category</th>\n",
       "      <th>receiving_centers</th>\n",
       "      <th>processing_centers</th>\n",
       "      <th>creation_date</th>\n",
       "      <th>service</th>\n",
       "      <th>price</th>\n",
       "      <th>payment_method</th>\n",
       "    </tr>\n",
       "  </thead>\n",
       "  <tbody>\n",
       "    <tr>\n",
       "      <th>8996</th>\n",
       "      <td>ORD8226</td>\n",
       "      <td>2020-06-28</td>\n",
       "      <td>LAB60323</td>\n",
       "      <td>Michael Harris</td>\n",
       "      <td>Kevin Jackson</td>\n",
       "      <td>Mercy Cancer Center</td>\n",
       "      <td>CYTOLOGY</td>\n",
       "      <td>Fine Needle Aspiration</td>\n",
       "      <td>Lymphoma</td>\n",
       "      <td>Main Lab</td>\n",
       "      <td>Unknown</td>\n",
       "      <td>2020-01-01</td>\n",
       "      <td>NaN</td>\n",
       "      <td>8038</td>\n",
       "      <td>Insurance</td>\n",
       "    </tr>\n",
       "    <tr>\n",
       "      <th>1835</th>\n",
       "      <td>NaN</td>\n",
       "      <td>2020-12-10</td>\n",
       "      <td>NaN</td>\n",
       "      <td>NaN</td>\n",
       "      <td>James Jackson</td>\n",
       "      <td>General Hospital</td>\n",
       "      <td>Histology</td>\n",
       "      <td>unknown</td>\n",
       "      <td>breast cancer</td>\n",
       "      <td>Unknown</td>\n",
       "      <td>central lab</td>\n",
       "      <td>2020-01-01</td>\n",
       "      <td>routine</td>\n",
       "      <td>ksh 9532</td>\n",
       "      <td>Unknown</td>\n",
       "    </tr>\n",
       "    <tr>\n",
       "      <th>4295</th>\n",
       "      <td>ORD6543</td>\n",
       "      <td>2020-10-31</td>\n",
       "      <td>LAB20596</td>\n",
       "      <td>Dr. Smyth</td>\n",
       "      <td>April Howard</td>\n",
       "      <td>City Cancer Clinic</td>\n",
       "      <td>Histology</td>\n",
       "      <td>unknown</td>\n",
       "      <td>Breast Cancer</td>\n",
       "      <td>Lab B</td>\n",
       "      <td>Lab C</td>\n",
       "      <td>2020-01-01</td>\n",
       "      <td>NaN</td>\n",
       "      <td>162</td>\n",
       "      <td>NaN</td>\n",
       "    </tr>\n",
       "    <tr>\n",
       "      <th>8638</th>\n",
       "      <td>ORD1765</td>\n",
       "      <td>2022-07-13</td>\n",
       "      <td>NaN</td>\n",
       "      <td>Robert Williams</td>\n",
       "      <td>Erin Miller</td>\n",
       "      <td>NaN</td>\n",
       "      <td>Immunohistochemistry</td>\n",
       "      <td>unknown</td>\n",
       "      <td>NaN</td>\n",
       "      <td>Lab B</td>\n",
       "      <td>Central Lab</td>\n",
       "      <td>2020-01-01</td>\n",
       "      <td>Routine</td>\n",
       "      <td>4570</td>\n",
       "      <td>Insurance</td>\n",
       "    </tr>\n",
       "    <tr>\n",
       "      <th>7556</th>\n",
       "      <td>ORD8366</td>\n",
       "      <td>2021-07-04</td>\n",
       "      <td>LAB58738</td>\n",
       "      <td>Dr. John Lee</td>\n",
       "      <td>Kimberly Kelly</td>\n",
       "      <td>City Cancer Clinic</td>\n",
       "      <td>IHC</td>\n",
       "      <td>unknown</td>\n",
       "      <td>Lung Cancer</td>\n",
       "      <td>Unknown</td>\n",
       "      <td>central lab</td>\n",
       "      <td>2020-01-02</td>\n",
       "      <td>STAT</td>\n",
       "      <td>8358</td>\n",
       "      <td>INS</td>\n",
       "    </tr>\n",
       "  </tbody>\n",
       "</table>\n",
       "</div>"
      ],
      "text/plain": [
       "     order_id signout_date lab_number assigned_to_pathologist    patient_name  \\\n",
       "8996  ORD8226   2020-06-28   LAB60323          Michael Harris   Kevin Jackson   \n",
       "1835      NaN   2020-12-10        NaN                     NaN   James Jackson   \n",
       "4295  ORD6543   2020-10-31   LAB20596               Dr. Smyth    April Howard   \n",
       "8638  ORD1765   2022-07-13        NaN         Robert Williams     Erin Miller   \n",
       "7556  ORD8366   2021-07-04   LAB58738            Dr. John Lee  Kimberly Kelly   \n",
       "\n",
       "                 facility         test_category                    test  \\\n",
       "8996  Mercy Cancer Center              CYTOLOGY  Fine Needle Aspiration   \n",
       "1835     General Hospital             Histology                 unknown   \n",
       "4295   City Cancer Clinic             Histology                 unknown   \n",
       "8638                  NaN  Immunohistochemistry                 unknown   \n",
       "7556   City Cancer Clinic                   IHC                 unknown   \n",
       "\n",
       "       sub_category receiving_centers processing_centers creation_date  \\\n",
       "8996       Lymphoma          Main Lab            Unknown    2020-01-01   \n",
       "1835  breast cancer           Unknown        central lab    2020-01-01   \n",
       "4295  Breast Cancer             Lab B              Lab C    2020-01-01   \n",
       "8638            NaN             Lab B        Central Lab    2020-01-01   \n",
       "7556    Lung Cancer           Unknown        central lab    2020-01-02   \n",
       "\n",
       "      service     price payment_method  \n",
       "8996      NaN      8038      Insurance  \n",
       "1835  routine  ksh 9532        Unknown  \n",
       "4295      NaN       162            NaN  \n",
       "8638  Routine      4570      Insurance  \n",
       "7556     STAT      8358            INS  "
      ]
     },
     "execution_count": 251,
     "metadata": {},
     "output_type": "execute_result"
    }
   ],
   "source": [
    "data = data.sort_values(by=\"creation_date\")\n",
    "data.head()"
   ]
  },
  {
   "cell_type": "markdown",
   "metadata": {},
   "source": [
    "## Filling missing creation_date rows with the earliest date which is \"2020-01-01\""
   ]
  },
  {
   "cell_type": "code",
   "execution_count": 252,
   "metadata": {},
   "outputs": [],
   "source": [
    "data['creation_date'] = data['creation_date'].fillna('2020-01-01')"
   ]
  },
  {
   "cell_type": "code",
   "execution_count": 253,
   "metadata": {},
   "outputs": [
    {
     "name": "stdout",
     "output_type": "stream",
     "text": [
      "<class 'pandas.core.frame.DataFrame'>\n",
      "Index: 10000 entries, 8996 to 9999\n",
      "Data columns (total 15 columns):\n",
      " #   Column                   Non-Null Count  Dtype         \n",
      "---  ------                   --------------  -----         \n",
      " 0   order_id                 9484 non-null   object        \n",
      " 1   signout_date             9030 non-null   datetime64[ns]\n",
      " 2   lab_number               9502 non-null   object        \n",
      " 3   assigned_to_pathologist  8570 non-null   object        \n",
      " 4   patient_name             9451 non-null   object        \n",
      " 5   facility                 8736 non-null   object        \n",
      " 6   test_category            10000 non-null  object        \n",
      " 7   test                     9500 non-null   object        \n",
      " 8   sub_category             8911 non-null   object        \n",
      " 9   receiving_centers        8281 non-null   object        \n",
      " 10  processing_centers       8390 non-null   object        \n",
      " 11  creation_date            10000 non-null  datetime64[ns]\n",
      " 12  service                  8499 non-null   object        \n",
      " 13  price                    9303 non-null   object        \n",
      " 14  payment_method           8603 non-null   object        \n",
      "dtypes: datetime64[ns](2), object(13)\n",
      "memory usage: 1.2+ MB\n"
     ]
    }
   ],
   "source": [
    "data.info()"
   ]
  },
  {
   "cell_type": "markdown",
   "metadata": {},
   "source": [
    "## Sorting the dataset using the signout date"
   ]
  },
  {
   "cell_type": "code",
   "execution_count": 254,
   "metadata": {},
   "outputs": [
    {
     "data": {
      "text/html": [
       "<div>\n",
       "<style scoped>\n",
       "    .dataframe tbody tr th:only-of-type {\n",
       "        vertical-align: middle;\n",
       "    }\n",
       "\n",
       "    .dataframe tbody tr th {\n",
       "        vertical-align: top;\n",
       "    }\n",
       "\n",
       "    .dataframe thead th {\n",
       "        text-align: right;\n",
       "    }\n",
       "</style>\n",
       "<table border=\"1\" class=\"dataframe\">\n",
       "  <thead>\n",
       "    <tr style=\"text-align: right;\">\n",
       "      <th></th>\n",
       "      <th>order_id</th>\n",
       "      <th>signout_date</th>\n",
       "      <th>lab_number</th>\n",
       "      <th>assigned_to_pathologist</th>\n",
       "      <th>patient_name</th>\n",
       "      <th>facility</th>\n",
       "      <th>test_category</th>\n",
       "      <th>test</th>\n",
       "      <th>sub_category</th>\n",
       "      <th>receiving_centers</th>\n",
       "      <th>processing_centers</th>\n",
       "      <th>creation_date</th>\n",
       "      <th>service</th>\n",
       "      <th>price</th>\n",
       "      <th>payment_method</th>\n",
       "    </tr>\n",
       "  </thead>\n",
       "  <tbody>\n",
       "    <tr>\n",
       "      <th>5868</th>\n",
       "      <td>ORD5193</td>\n",
       "      <td>2020-01-01</td>\n",
       "      <td>LAB85949</td>\n",
       "      <td>Dr. Smith</td>\n",
       "      <td>Shawn Smith</td>\n",
       "      <td>NaN</td>\n",
       "      <td>Haematology</td>\n",
       "      <td>HER2 Testing</td>\n",
       "      <td>Not Specified</td>\n",
       "      <td>Main Lab</td>\n",
       "      <td>Central Lab</td>\n",
       "      <td>2020-07-28</td>\n",
       "      <td>Routine</td>\n",
       "      <td>442</td>\n",
       "      <td>Insurance</td>\n",
       "    </tr>\n",
       "    <tr>\n",
       "      <th>3528</th>\n",
       "      <td>ORD1426</td>\n",
       "      <td>2020-01-01</td>\n",
       "      <td>LAB92649</td>\n",
       "      <td>Dr Jane Doe</td>\n",
       "      <td>Christopher Ramirez</td>\n",
       "      <td>St. Mary's Oncology</td>\n",
       "      <td>Hematology</td>\n",
       "      <td>unknown</td>\n",
       "      <td>Leukemia</td>\n",
       "      <td>Main Lab</td>\n",
       "      <td>Lab C</td>\n",
       "      <td>2022-11-15</td>\n",
       "      <td>STAT</td>\n",
       "      <td>ksh 0</td>\n",
       "      <td>Credit Card</td>\n",
       "    </tr>\n",
       "    <tr>\n",
       "      <th>5684</th>\n",
       "      <td>ORD9778</td>\n",
       "      <td>2020-01-01</td>\n",
       "      <td>LAB88622</td>\n",
       "      <td>Dr. Jane Doe</td>\n",
       "      <td>Robert Ward</td>\n",
       "      <td>City Cancer Clinic</td>\n",
       "      <td>Histology</td>\n",
       "      <td>Tissue Staining</td>\n",
       "      <td>Breast Cancer</td>\n",
       "      <td>Lab A</td>\n",
       "      <td>Lab C</td>\n",
       "      <td>2024-01-19</td>\n",
       "      <td>routine</td>\n",
       "      <td>7870</td>\n",
       "      <td>NaN</td>\n",
       "    </tr>\n",
       "    <tr>\n",
       "      <th>7384</th>\n",
       "      <td>ORD9018</td>\n",
       "      <td>2020-01-01</td>\n",
       "      <td>LAB14037</td>\n",
       "      <td>Tanya Johnson</td>\n",
       "      <td>Mrs. Teresa Hubbard</td>\n",
       "      <td>St. Mary's Oncology</td>\n",
       "      <td>Histology</td>\n",
       "      <td>unknown</td>\n",
       "      <td>NS</td>\n",
       "      <td>Unknown</td>\n",
       "      <td>Unknown</td>\n",
       "      <td>2024-06-25</td>\n",
       "      <td>STAT</td>\n",
       "      <td>ksh 0</td>\n",
       "      <td>Unknown</td>\n",
       "    </tr>\n",
       "    <tr>\n",
       "      <th>5753</th>\n",
       "      <td>ORD5515</td>\n",
       "      <td>2020-01-01</td>\n",
       "      <td>LAB36507</td>\n",
       "      <td>Dr. Smyth</td>\n",
       "      <td>Kurt Bailey</td>\n",
       "      <td>NaN</td>\n",
       "      <td>Immunohistochemistry</td>\n",
       "      <td>ER/PR Testing</td>\n",
       "      <td>Lymphoma</td>\n",
       "      <td>Lab A</td>\n",
       "      <td>Unknown</td>\n",
       "      <td>2020-01-01</td>\n",
       "      <td>routine</td>\n",
       "      <td>1962</td>\n",
       "      <td>NaN</td>\n",
       "    </tr>\n",
       "  </tbody>\n",
       "</table>\n",
       "</div>"
      ],
      "text/plain": [
       "     order_id signout_date lab_number assigned_to_pathologist  \\\n",
       "5868  ORD5193   2020-01-01   LAB85949               Dr. Smith   \n",
       "3528  ORD1426   2020-01-01   LAB92649             Dr Jane Doe   \n",
       "5684  ORD9778   2020-01-01   LAB88622            Dr. Jane Doe   \n",
       "7384  ORD9018   2020-01-01   LAB14037           Tanya Johnson   \n",
       "5753  ORD5515   2020-01-01   LAB36507               Dr. Smyth   \n",
       "\n",
       "             patient_name             facility         test_category  \\\n",
       "5868          Shawn Smith                  NaN           Haematology   \n",
       "3528  Christopher Ramirez  St. Mary's Oncology            Hematology   \n",
       "5684          Robert Ward   City Cancer Clinic             Histology   \n",
       "7384  Mrs. Teresa Hubbard  St. Mary's Oncology             Histology   \n",
       "5753          Kurt Bailey                  NaN  Immunohistochemistry   \n",
       "\n",
       "                 test   sub_category receiving_centers processing_centers  \\\n",
       "5868     HER2 Testing  Not Specified          Main Lab        Central Lab   \n",
       "3528          unknown       Leukemia          Main Lab              Lab C   \n",
       "5684  Tissue Staining  Breast Cancer             Lab A              Lab C   \n",
       "7384          unknown             NS           Unknown            Unknown   \n",
       "5753    ER/PR Testing       Lymphoma             Lab A            Unknown   \n",
       "\n",
       "     creation_date  service  price payment_method  \n",
       "5868    2020-07-28  Routine    442      Insurance  \n",
       "3528    2022-11-15     STAT  ksh 0    Credit Card  \n",
       "5684    2024-01-19  routine   7870            NaN  \n",
       "7384    2024-06-25     STAT  ksh 0        Unknown  \n",
       "5753    2020-01-01  routine   1962            NaN  "
      ]
     },
     "execution_count": 254,
     "metadata": {},
     "output_type": "execute_result"
    }
   ],
   "source": [
    "data = data.sort_values(by=\"signout_date\")\n",
    "data.head()"
   ]
  },
  {
   "cell_type": "markdown",
   "metadata": {},
   "source": [
    "## Filling the missing data values in signout_date with earliest date which is \"2020-01-01\""
   ]
  },
  {
   "cell_type": "code",
   "execution_count": 255,
   "metadata": {},
   "outputs": [
    {
     "name": "stdout",
     "output_type": "stream",
     "text": [
      "<class 'pandas.core.frame.DataFrame'>\n",
      "Index: 10000 entries, 5868 to 9963\n",
      "Data columns (total 15 columns):\n",
      " #   Column                   Non-Null Count  Dtype         \n",
      "---  ------                   --------------  -----         \n",
      " 0   order_id                 9484 non-null   object        \n",
      " 1   signout_date             10000 non-null  datetime64[ns]\n",
      " 2   lab_number               9502 non-null   object        \n",
      " 3   assigned_to_pathologist  8570 non-null   object        \n",
      " 4   patient_name             9451 non-null   object        \n",
      " 5   facility                 8736 non-null   object        \n",
      " 6   test_category            10000 non-null  object        \n",
      " 7   test                     9500 non-null   object        \n",
      " 8   sub_category             8911 non-null   object        \n",
      " 9   receiving_centers        8281 non-null   object        \n",
      " 10  processing_centers       8390 non-null   object        \n",
      " 11  creation_date            10000 non-null  datetime64[ns]\n",
      " 12  service                  8499 non-null   object        \n",
      " 13  price                    9303 non-null   object        \n",
      " 14  payment_method           8603 non-null   object        \n",
      "dtypes: datetime64[ns](2), object(13)\n",
      "memory usage: 1.2+ MB\n"
     ]
    }
   ],
   "source": [
    "data['signout_date'] = data['signout_date'].fillna('2020-01-01')\n",
    "data.info()"
   ]
  },
  {
   "cell_type": "markdown",
   "metadata": {},
   "source": [
    "## Create a function that can clean price column and applying it"
   ]
  },
  {
   "cell_type": "code",
   "execution_count": 256,
   "metadata": {},
   "outputs": [
    {
     "data": {
      "text/html": [
       "<div>\n",
       "<style scoped>\n",
       "    .dataframe tbody tr th:only-of-type {\n",
       "        vertical-align: middle;\n",
       "    }\n",
       "\n",
       "    .dataframe tbody tr th {\n",
       "        vertical-align: top;\n",
       "    }\n",
       "\n",
       "    .dataframe thead th {\n",
       "        text-align: right;\n",
       "    }\n",
       "</style>\n",
       "<table border=\"1\" class=\"dataframe\">\n",
       "  <thead>\n",
       "    <tr style=\"text-align: right;\">\n",
       "      <th></th>\n",
       "      <th>order_id</th>\n",
       "      <th>signout_date</th>\n",
       "      <th>lab_number</th>\n",
       "      <th>assigned_to_pathologist</th>\n",
       "      <th>patient_name</th>\n",
       "      <th>facility</th>\n",
       "      <th>test_category</th>\n",
       "      <th>test</th>\n",
       "      <th>sub_category</th>\n",
       "      <th>receiving_centers</th>\n",
       "      <th>processing_centers</th>\n",
       "      <th>creation_date</th>\n",
       "      <th>service</th>\n",
       "      <th>price</th>\n",
       "      <th>payment_method</th>\n",
       "    </tr>\n",
       "  </thead>\n",
       "  <tbody>\n",
       "    <tr>\n",
       "      <th>5868</th>\n",
       "      <td>ORD5193</td>\n",
       "      <td>2020-01-01</td>\n",
       "      <td>LAB85949</td>\n",
       "      <td>Dr. Smith</td>\n",
       "      <td>Shawn Smith</td>\n",
       "      <td>NaN</td>\n",
       "      <td>Haematology</td>\n",
       "      <td>HER2 Testing</td>\n",
       "      <td>Not Specified</td>\n",
       "      <td>Main Lab</td>\n",
       "      <td>Central Lab</td>\n",
       "      <td>2020-07-28</td>\n",
       "      <td>Routine</td>\n",
       "      <td>442.0</td>\n",
       "      <td>Insurance</td>\n",
       "    </tr>\n",
       "    <tr>\n",
       "      <th>3528</th>\n",
       "      <td>ORD1426</td>\n",
       "      <td>2020-01-01</td>\n",
       "      <td>LAB92649</td>\n",
       "      <td>Dr Jane Doe</td>\n",
       "      <td>Christopher Ramirez</td>\n",
       "      <td>St. Mary's Oncology</td>\n",
       "      <td>Hematology</td>\n",
       "      <td>unknown</td>\n",
       "      <td>Leukemia</td>\n",
       "      <td>Main Lab</td>\n",
       "      <td>Lab C</td>\n",
       "      <td>2022-11-15</td>\n",
       "      <td>STAT</td>\n",
       "      <td>0.0</td>\n",
       "      <td>Credit Card</td>\n",
       "    </tr>\n",
       "    <tr>\n",
       "      <th>5684</th>\n",
       "      <td>ORD9778</td>\n",
       "      <td>2020-01-01</td>\n",
       "      <td>LAB88622</td>\n",
       "      <td>Dr. Jane Doe</td>\n",
       "      <td>Robert Ward</td>\n",
       "      <td>City Cancer Clinic</td>\n",
       "      <td>Histology</td>\n",
       "      <td>Tissue Staining</td>\n",
       "      <td>Breast Cancer</td>\n",
       "      <td>Lab A</td>\n",
       "      <td>Lab C</td>\n",
       "      <td>2024-01-19</td>\n",
       "      <td>routine</td>\n",
       "      <td>7870.0</td>\n",
       "      <td>NaN</td>\n",
       "    </tr>\n",
       "    <tr>\n",
       "      <th>7384</th>\n",
       "      <td>ORD9018</td>\n",
       "      <td>2020-01-01</td>\n",
       "      <td>LAB14037</td>\n",
       "      <td>Tanya Johnson</td>\n",
       "      <td>Mrs. Teresa Hubbard</td>\n",
       "      <td>St. Mary's Oncology</td>\n",
       "      <td>Histology</td>\n",
       "      <td>unknown</td>\n",
       "      <td>NS</td>\n",
       "      <td>Unknown</td>\n",
       "      <td>Unknown</td>\n",
       "      <td>2024-06-25</td>\n",
       "      <td>STAT</td>\n",
       "      <td>0.0</td>\n",
       "      <td>Unknown</td>\n",
       "    </tr>\n",
       "    <tr>\n",
       "      <th>5753</th>\n",
       "      <td>ORD5515</td>\n",
       "      <td>2020-01-01</td>\n",
       "      <td>LAB36507</td>\n",
       "      <td>Dr. Smyth</td>\n",
       "      <td>Kurt Bailey</td>\n",
       "      <td>NaN</td>\n",
       "      <td>Immunohistochemistry</td>\n",
       "      <td>ER/PR Testing</td>\n",
       "      <td>Lymphoma</td>\n",
       "      <td>Lab A</td>\n",
       "      <td>Unknown</td>\n",
       "      <td>2020-01-01</td>\n",
       "      <td>routine</td>\n",
       "      <td>1962.0</td>\n",
       "      <td>NaN</td>\n",
       "    </tr>\n",
       "  </tbody>\n",
       "</table>\n",
       "</div>"
      ],
      "text/plain": [
       "     order_id signout_date lab_number assigned_to_pathologist  \\\n",
       "5868  ORD5193   2020-01-01   LAB85949               Dr. Smith   \n",
       "3528  ORD1426   2020-01-01   LAB92649             Dr Jane Doe   \n",
       "5684  ORD9778   2020-01-01   LAB88622            Dr. Jane Doe   \n",
       "7384  ORD9018   2020-01-01   LAB14037           Tanya Johnson   \n",
       "5753  ORD5515   2020-01-01   LAB36507               Dr. Smyth   \n",
       "\n",
       "             patient_name             facility         test_category  \\\n",
       "5868          Shawn Smith                  NaN           Haematology   \n",
       "3528  Christopher Ramirez  St. Mary's Oncology            Hematology   \n",
       "5684          Robert Ward   City Cancer Clinic             Histology   \n",
       "7384  Mrs. Teresa Hubbard  St. Mary's Oncology             Histology   \n",
       "5753          Kurt Bailey                  NaN  Immunohistochemistry   \n",
       "\n",
       "                 test   sub_category receiving_centers processing_centers  \\\n",
       "5868     HER2 Testing  Not Specified          Main Lab        Central Lab   \n",
       "3528          unknown       Leukemia          Main Lab              Lab C   \n",
       "5684  Tissue Staining  Breast Cancer             Lab A              Lab C   \n",
       "7384          unknown             NS           Unknown            Unknown   \n",
       "5753    ER/PR Testing       Lymphoma             Lab A            Unknown   \n",
       "\n",
       "     creation_date  service   price payment_method  \n",
       "5868    2020-07-28  Routine   442.0      Insurance  \n",
       "3528    2022-11-15     STAT     0.0    Credit Card  \n",
       "5684    2024-01-19  routine  7870.0            NaN  \n",
       "7384    2024-06-25     STAT     0.0        Unknown  \n",
       "5753    2020-01-01  routine  1962.0            NaN  "
      ]
     },
     "execution_count": 256,
     "metadata": {},
     "output_type": "execute_result"
    }
   ],
   "source": [
    "def clean_price(value):\n",
    "    if pd.isnull(value):\n",
    "        return None\n",
    "    # Remove text like \"ksh\", \"KES\", and commas\n",
    "    value = str(value).lower().replace('ksh', '').replace('kes', '').replace(',', '').strip()\n",
    "    try:\n",
    "        return float(value)\n",
    "    except:\n",
    "        return None\n",
    "\n",
    "# Apply the cleaning function\n",
    "data['price'] = data['price'].apply(clean_price)\n",
    "data.head()"
   ]
  },
  {
   "cell_type": "code",
   "execution_count": 257,
   "metadata": {},
   "outputs": [
    {
     "name": "stdout",
     "output_type": "stream",
     "text": [
      "<class 'pandas.core.frame.DataFrame'>\n",
      "Index: 10000 entries, 5868 to 9963\n",
      "Data columns (total 15 columns):\n",
      " #   Column                   Non-Null Count  Dtype         \n",
      "---  ------                   --------------  -----         \n",
      " 0   order_id                 9484 non-null   object        \n",
      " 1   signout_date             10000 non-null  datetime64[ns]\n",
      " 2   lab_number               9502 non-null   object        \n",
      " 3   assigned_to_pathologist  8570 non-null   object        \n",
      " 4   patient_name             9451 non-null   object        \n",
      " 5   facility                 8736 non-null   object        \n",
      " 6   test_category            10000 non-null  object        \n",
      " 7   test                     9500 non-null   object        \n",
      " 8   sub_category             8911 non-null   object        \n",
      " 9   receiving_centers        8281 non-null   object        \n",
      " 10  processing_centers       8390 non-null   object        \n",
      " 11  creation_date            10000 non-null  datetime64[ns]\n",
      " 12  service                  8499 non-null   object        \n",
      " 13  price                    9303 non-null   float64       \n",
      " 14  payment_method           8603 non-null   object        \n",
      "dtypes: datetime64[ns](2), float64(1), object(12)\n",
      "memory usage: 1.2+ MB\n"
     ]
    }
   ],
   "source": [
    "data.info()"
   ]
  },
  {
   "cell_type": "markdown",
   "metadata": {},
   "source": [
    "## Plotted a boxplot to check for outliers in price column but I found none"
   ]
  },
  {
   "cell_type": "code",
   "execution_count": 258,
   "metadata": {},
   "outputs": [
    {
     "data": {
      "text/plain": [
       "<Axes: ylabel='price'>"
      ]
     },
     "execution_count": 258,
     "metadata": {},
     "output_type": "execute_result"
    },
    {
     "data": {
      "image/png": "[encoded data removed]",
      "text/plain": [
       "<Figure size 640x480 with 1 Axes>"
      ]
     },
     "metadata": {},
     "output_type": "display_data"
    }
   ],
   "source": [
    "sns.boxplot(y='price', data = data)"
   ]
  },
  {
   "cell_type": "markdown",
   "metadata": {},
   "source": [
    "## Since it has no outliers, I filled the missing price values with the mean"
   ]
  },
  {
   "cell_type": "code",
   "execution_count": 259,
   "metadata": {},
   "outputs": [
    {
     "name": "stdout",
     "output_type": "stream",
     "text": [
      "<class 'pandas.core.frame.DataFrame'>\n",
      "Index: 10000 entries, 5868 to 9963\n",
      "Data columns (total 15 columns):\n",
      " #   Column                   Non-Null Count  Dtype         \n",
      "---  ------                   --------------  -----         \n",
      " 0   order_id                 9484 non-null   object        \n",
      " 1   signout_date             10000 non-null  datetime64[ns]\n",
      " 2   lab_number               9502 non-null   object        \n",
      " 3   assigned_to_pathologist  8570 non-null   object        \n",
      " 4   patient_name             9451 non-null   object        \n",
      " 5   facility                 8736 non-null   object        \n",
      " 6   test_category            10000 non-null  object        \n",
      " 7   test                     9500 non-null   object        \n",
      " 8   sub_category             8911 non-null   object        \n",
      " 9   receiving_centers        8281 non-null   object        \n",
      " 10  processing_centers       8390 non-null   object        \n",
      " 11  creation_date            10000 non-null  datetime64[ns]\n",
      " 12  service                  8499 non-null   object        \n",
      " 13  price                    10000 non-null  float64       \n",
      " 14  payment_method           8603 non-null   object        \n",
      "dtypes: datetime64[ns](2), float64(1), object(12)\n",
      "memory usage: 1.2+ MB\n"
     ]
    }
   ],
   "source": [
    "data['price'] = data['price'].fillna(data['price'].mean())\n",
    "data.info()"
   ]
  },
  {
   "cell_type": "markdown",
   "metadata": {},
   "source": [
    "## Filled the rest missing values in columns with dtypes object with \"Unknown\""
   ]
  },
  {
   "cell_type": "code",
   "execution_count": 260,
   "metadata": {},
   "outputs": [
    {
     "name": "stdout",
     "output_type": "stream",
     "text": [
      "<class 'pandas.core.frame.DataFrame'>\n",
      "Index: 10000 entries, 5868 to 9963\n",
      "Data columns (total 15 columns):\n",
      " #   Column                   Non-Null Count  Dtype         \n",
      "---  ------                   --------------  -----         \n",
      " 0   order_id                 10000 non-null  object        \n",
      " 1   signout_date             10000 non-null  datetime64[ns]\n",
      " 2   lab_number               10000 non-null  object        \n",
      " 3   assigned_to_pathologist  10000 non-null  object        \n",
      " 4   patient_name             10000 non-null  object        \n",
      " 5   facility                 10000 non-null  object        \n",
      " 6   test_category            10000 non-null  object        \n",
      " 7   test                     10000 non-null  object        \n",
      " 8   sub_category             10000 non-null  object        \n",
      " 9   receiving_centers        10000 non-null  object        \n",
      " 10  processing_centers       10000 non-null  object        \n",
      " 11  creation_date            10000 non-null  datetime64[ns]\n",
      " 12  service                  10000 non-null  object        \n",
      " 13  price                    10000 non-null  float64       \n",
      " 14  payment_method           10000 non-null  object        \n",
      "dtypes: datetime64[ns](2), float64(1), object(12)\n",
      "memory usage: 1.2+ MB\n"
     ]
    }
   ],
   "source": [
    "for col in data.select_dtypes(include='object').columns:\n",
    "        data[col] = data[col].fillna('Unknown')\n",
    "data.info()"
   ]
  },
  {
   "cell_type": "markdown",
   "metadata": {},
   "source": [
    "# Data Standardization"
   ]
  },
  {
   "cell_type": "markdown",
   "metadata": {},
   "source": [
    "## Standardized facility column"
   ]
  },
  {
   "cell_type": "code",
   "execution_count": 261,
   "metadata": {},
   "outputs": [
    {
     "data": {
      "text/plain": [
       "facility\n",
       "Unknown                2564\n",
       "St. Marys              1284\n",
       "mercy cancer center    1272\n",
       "General Hospital       1247\n",
       "Mercy Cancer Center    1228\n",
       "City Cancer Clinic     1203\n",
       "St. Mary's Oncology    1202\n",
       "Name: count, dtype: int64"
      ]
     },
     "execution_count": 261,
     "metadata": {},
     "output_type": "execute_result"
    }
   ],
   "source": [
    "data['facility'].value_counts()"
   ]
  },
  {
   "cell_type": "code",
   "execution_count": 262,
   "metadata": {},
   "outputs": [
    {
     "data": {
      "text/plain": [
       "facility\n",
       "Unknown                2564\n",
       "Mercy Cancer Center    2500\n",
       "St. Mary'S Oncology    2486\n",
       "General Hospital       1247\n",
       "City Cancer Clinic     1203\n",
       "Name: count, dtype: int64"
      ]
     },
     "execution_count": 262,
     "metadata": {},
     "output_type": "execute_result"
    }
   ],
   "source": [
    "data['facility'] = data['facility'].replace({\n",
    "    'St. Marys': \"St. Mary's Oncology\",\n",
    "    'mercy cancer center': 'Mercy Cancer Center',\n",
    "})\n",
    "data['facility'] = data['facility'].str.title().str.strip()\n",
    "data['facility'].value_counts()"
   ]
  },
  {
   "cell_type": "code",
   "execution_count": null,
   "metadata": {},
   "outputs": [],
   "source": []
  },
  {
   "cell_type": "markdown",
   "metadata": {},
   "source": [
    "## Standardized test_category column"
   ]
  },
  {
   "cell_type": "code",
   "execution_count": 263,
   "metadata": {},
   "outputs": [
    {
     "data": {
      "text/plain": [
       "test_category\n",
       "Immunohistochemistry    1043\n",
       "Cytology                1037\n",
       "Hematology              1035\n",
       "Haematology             1029\n",
       "CYTOLOGY                1010\n",
       "histology               1002\n",
       "Unknown                  994\n",
       "IHC                      980\n",
       "Immunohistochem          955\n",
       "Histology                915\n",
       "Name: count, dtype: int64"
      ]
     },
     "execution_count": 263,
     "metadata": {},
     "output_type": "execute_result"
    }
   ],
   "source": [
    "data['test_category'].value_counts()"
   ]
  },
  {
   "cell_type": "code",
   "execution_count": 264,
   "metadata": {},
   "outputs": [
    {
     "data": {
      "text/plain": [
       "test_category\n",
       "Immunohistochemistry    2978\n",
       "Haematology             2064\n",
       "Cytology                2047\n",
       "Histology               1917\n",
       "Unknown                  994\n",
       "Name: count, dtype: int64"
      ]
     },
     "execution_count": 264,
     "metadata": {},
     "output_type": "execute_result"
    }
   ],
   "source": [
    "data['test_category'] = data['test_category'].replace({\n",
    "    'Hematology': \"Haematology\",\n",
    "    'histology': 'Histology',\n",
    "    'Immunohistochem' : 'Immunohistochemistry',\n",
    "    'IHC' : 'Immunohistochemistry'\n",
    "})\n",
    "data['test_category'] = data['test_category'].str.title().str.strip()\n",
    "data['test_category'].value_counts()"
   ]
  },
  {
   "cell_type": "markdown",
   "metadata": {},
   "source": [
    "## Standardized test column"
   ]
  },
  {
   "cell_type": "code",
   "execution_count": 265,
   "metadata": {},
   "outputs": [
    {
     "data": {
      "text/plain": [
       "test\n",
       "unknown                   3135\n",
       "ER/PR Testing             1674\n",
       "HER2 Testing              1539\n",
       "Cytology Smear             667\n",
       "Fine Needle Aspiration     650\n",
       "Tissue Staining            599\n",
       "Biopsy                     575\n",
       "Unknown                    500\n",
       "Blood Count                333\n",
       "Bone Marrow Aspiration     328\n",
       "Name: count, dtype: int64"
      ]
     },
     "execution_count": 265,
     "metadata": {},
     "output_type": "execute_result"
    }
   ],
   "source": [
    "data['test'].value_counts()"
   ]
  },
  {
   "cell_type": "code",
   "execution_count": 266,
   "metadata": {},
   "outputs": [
    {
     "data": {
      "text/plain": [
       "test\n",
       "Unknown                   3635\n",
       "Er/Pr Testing             1674\n",
       "Her2 Testing              1539\n",
       "Cytology Smear             667\n",
       "Fine Needle Aspiration     650\n",
       "Tissue Staining            599\n",
       "Biopsy                     575\n",
       "Blood Count                333\n",
       "Bone Marrow Aspiration     328\n",
       "Name: count, dtype: int64"
      ]
     },
     "execution_count": 266,
     "metadata": {},
     "output_type": "execute_result"
    }
   ],
   "source": [
    "data['test'] = data['test'].str.title().str.strip()\n",
    "data['test'].value_counts()"
   ]
  },
  {
   "cell_type": "markdown",
   "metadata": {},
   "source": [
    "## Standardized sub_category column"
   ]
  },
  {
   "cell_type": "code",
   "execution_count": 267,
   "metadata": {},
   "outputs": [
    {
     "data": {
      "text/plain": [
       "sub_category\n",
       "Lung CA          1145\n",
       "Lung Cancer      1143\n",
       "breast cancer    1128\n",
       "Breast Cancer    1125\n",
       "NS               1122\n",
       "Not Specified    1121\n",
       "Unknown          1089\n",
       "Leukemia         1083\n",
       "Lymphoma         1044\n",
       "Name: count, dtype: int64"
      ]
     },
     "execution_count": 267,
     "metadata": {},
     "output_type": "execute_result"
    }
   ],
   "source": [
    "data['sub_category'].value_counts()"
   ]
  },
  {
   "cell_type": "code",
   "execution_count": 268,
   "metadata": {},
   "outputs": [
    {
     "data": {
      "text/plain": [
       "sub_category\n",
       "Unknown          3332\n",
       "Lung Cancer      2288\n",
       "Breast Cancer    2253\n",
       "Leukemia         1083\n",
       "Lymphoma         1044\n",
       "Name: count, dtype: int64"
      ]
     },
     "execution_count": 268,
     "metadata": {},
     "output_type": "execute_result"
    }
   ],
   "source": [
    "data['sub_category'] = data['sub_category'].replace({\n",
    "    'Lung CA': \"Lung Cancer\",\n",
    "    'NS': 'Unknown',\n",
    "    'Not Specified' : 'Unknown',\n",
    "    'IHC' : 'Immunohistochemistry'\n",
    "})\n",
    "data['sub_category'] = data['sub_category'].str.title().str.strip()\n",
    "data['sub_category'].value_counts()"
   ]
  },
  {
   "cell_type": "markdown",
   "metadata": {},
   "source": [
    "## Standardized receiving_centers column"
   ]
  },
  {
   "cell_type": "code",
   "execution_count": 269,
   "metadata": {},
   "outputs": [
    {
     "data": {
      "text/plain": [
       "receiving_centers\n",
       "Unknown     3377\n",
       "Lab A       3268\n",
       "Lab B       1680\n",
       "Main Lab    1675\n",
       "Name: count, dtype: int64"
      ]
     },
     "execution_count": 269,
     "metadata": {},
     "output_type": "execute_result"
    }
   ],
   "source": [
    "data['receiving_centers'] = data['receiving_centers'].str.title().str.strip()\n",
    "data['receiving_centers'].value_counts()"
   ]
  },
  {
   "cell_type": "markdown",
   "metadata": {},
   "source": [
    "## Standardized processing_centers column"
   ]
  },
  {
   "cell_type": "code",
   "execution_count": 270,
   "metadata": {},
   "outputs": [
    {
     "data": {
      "text/plain": [
       "processing_centers\n",
       "Central Lab    3305\n",
       "Unknown        3274\n",
       "Main Lab       1721\n",
       "Lab C          1700\n",
       "Name: count, dtype: int64"
      ]
     },
     "execution_count": 270,
     "metadata": {},
     "output_type": "execute_result"
    }
   ],
   "source": [
    "data['processing_centers'] = data['processing_centers'].str.title().str.strip()\n",
    "data['processing_centers'].value_counts()"
   ]
  },
  {
   "cell_type": "markdown",
   "metadata": {},
   "source": [
    "## Standardized service column"
   ]
  },
  {
   "cell_type": "code",
   "execution_count": 271,
   "metadata": {},
   "outputs": [
    {
     "data": {
      "text/plain": [
       "service\n",
       "Unknown    2898\n",
       "Routine    2837\n",
       "Consult    1464\n",
       "Urgent     1423\n",
       "Stat       1378\n",
       "Name: count, dtype: int64"
      ]
     },
     "execution_count": 271,
     "metadata": {},
     "output_type": "execute_result"
    }
   ],
   "source": [
    "data['service'] = data['service'].str.title().str.strip()\n",
    "data['service'].value_counts()"
   ]
  },
  {
   "cell_type": "markdown",
   "metadata": {},
   "source": [
    "## Standardized payment_method column"
   ]
  },
  {
   "cell_type": "code",
   "execution_count": 272,
   "metadata": {},
   "outputs": [
    {
     "data": {
      "text/plain": [
       "payment_method\n",
       "Unknown        2866\n",
       "Cash           1465\n",
       "INS            1444\n",
       "Credit Card    1440\n",
       "credit         1396\n",
       "Insurance      1389\n",
       "Name: count, dtype: int64"
      ]
     },
     "execution_count": 272,
     "metadata": {},
     "output_type": "execute_result"
    }
   ],
   "source": [
    "data['payment_method'].value_counts()"
   ]
  },
  {
   "cell_type": "code",
   "execution_count": 273,
   "metadata": {},
   "outputs": [
    {
     "data": {
      "text/plain": [
       "payment_method\n",
       "Unknown        2866\n",
       "Insurance      2833\n",
       "Cash           1465\n",
       "Credit Card    1440\n",
       "Credit         1396\n",
       "Name: count, dtype: int64"
      ]
     },
     "execution_count": 273,
     "metadata": {},
     "output_type": "execute_result"
    }
   ],
   "source": [
    "data['payment_method'] = data['payment_method'].replace({\n",
    "    'INS': 'Insurance'\n",
    "})\n",
    "data['payment_method'] = data['payment_method'].str.title().str.strip()\n",
    "data['payment_method'].value_counts()"
   ]
  },
  {
   "cell_type": "markdown",
   "metadata": {},
   "source": [
    "## Visualization"
   ]
  },
  {
   "cell_type": "markdown",
   "metadata": {},
   "source": [
    "### 1. Bar Chart – Total Price by Facility"
   ]
  },
  {
   "cell_type": "code",
   "execution_count": 274,
   "metadata": {},
   "outputs": [
    {
     "data": {
      "image/png": "[encoded data removed]",
      "text/plain": [
       "<Figure size 1000x600 with 1 Axes>"
      ]
     },
     "metadata": {},
     "output_type": "display_data"
    }
   ],
   "source": [
    "# Group by facility and sum price\n",
    "facility_price = data.groupby('facility')['price'].sum().sort_values(ascending=False).head(10)\n",
    "\n",
    "# Plot\n",
    "facility_price.plot(kind='bar', figsize=(10, 6), color='skyblue')\n",
    "plt.title('Total Price by Facility')\n",
    "plt.xlabel('Facility')\n",
    "plt.ylabel('Total Price')\n",
    "plt.xticks(rotation=45)\n",
    "plt.tight_layout()\n",
    "plt.show()\n"
   ]
  },
  {
   "cell_type": "markdown",
   "metadata": {},
   "source": [
    "### 2. Bar Chart – Test Category Count"
   ]
  },
  {
   "cell_type": "code",
   "execution_count": 275,
   "metadata": {},
   "outputs": [
    {
     "data": {
      "image/png": "[encoded data removed]",
      "text/plain": [
       "<Figure size 1000x600 with 1 Axes>"
      ]
     },
     "metadata": {},
     "output_type": "display_data"
    }
   ],
   "source": [
    "test_cat_counts = data['test_category'].value_counts().head(10)\n",
    "\n",
    "test_cat_counts.plot(kind='bar', figsize=(10, 6), color='coral')\n",
    "plt.title('Top 10 Test Categories by Frequency')\n",
    "plt.xlabel('Test Category')\n",
    "plt.ylabel('Count')\n",
    "plt.xticks(rotation=45)\n",
    "plt.tight_layout()\n",
    "plt.show()\n"
   ]
  },
  {
   "cell_type": "markdown",
   "metadata": {},
   "source": [
    "### 3. Pie Chart – Payment Method Distribution"
   ]
  },
  {
   "cell_type": "code",
   "execution_count": 276,
   "metadata": {},
   "outputs": [
    {
     "data": {
      "image/png": "[encoded data removed]",
      "text/plain": [
       "<Figure size 800x800 with 1 Axes>"
      ]
     },
     "metadata": {},
     "output_type": "display_data"
    }
   ],
   "source": [
    "payment_dist = data['payment_method'].value_counts()\n",
    "\n",
    "payment_dist.plot(kind='pie', autopct='%1.1f%%', startangle=140, figsize=(8, 8))\n",
    "plt.title('Payment Method Distribution')\n",
    "plt.ylabel('')\n",
    "plt.tight_layout()\n",
    "plt.show()\n"
   ]
  },
  {
   "cell_type": "markdown",
   "metadata": {},
   "source": [
    "### 4. Boxplot – Price Distribution by Test Category"
   ]
  },
  {
   "cell_type": "code",
   "execution_count": 277,
   "metadata": {},
   "outputs": [
    {
     "data": {
      "image/png": "[encoded data removed]",
      "text/plain": [
       "<Figure size 1200x600 with 1 Axes>"
      ]
     },
     "metadata": {},
     "output_type": "display_data"
    }
   ],
   "source": [
    "plt.figure(figsize=(12, 6))\n",
    "top_categories = data['test_category'].value_counts().head(5).index\n",
    "sns.boxplot(x='test_category', y='price', data=data[data['test_category'].isin(top_categories)])\n",
    "plt.title('Price Distribution by Top Test Categories')\n",
    "plt.xticks(rotation=45)\n",
    "plt.tight_layout()\n",
    "plt.show()\n"
   ]
  },
  {
   "cell_type": "markdown",
   "metadata": {},
   "source": [
    "## Loaded the cleaned dataset in the csv file"
   ]
  },
  {
   "cell_type": "code",
   "execution_count": 278,
   "metadata": {},
   "outputs": [],
   "source": [
    "data.to_csv(\"Cleaned_dataset.csv\", index=False)"
   ]
  },
  {
   "cell_type": "markdown",
   "metadata": {},
   "source": [
    "# Connect to a PostgreSql database and Load Data"
   ]
  },
  {
   "cell_type": "code",
   "execution_count": 279,
   "metadata": {},
   "outputs": [],
   "source": [
    "from dotenv import load_dotenv\n",
    "import os\n",
    "import psycopg2\n",
    "import pandas as pd\n",
    "from sqlalchemy import create_engine"
   ]
  },
  {
   "cell_type": "code",
   "execution_count": 280,
   "metadata": {},
   "outputs": [],
   "source": [
    "# Load .env variables\n",
    "load_dotenv()\n",
    "\n",
    "# 1. Connect postgres using psycopg2\n",
    "connection = psycopg2.connect(  \n",
    "    host=os.getenv(\"db_host\"),\n",
    "    database=os.getenv(\"db_name\"),\n",
    "    user=os.getenv(\"db_user\"),\n",
    "    password=os.getenv(\"db_pass\"),\n",
    "    port=os.getenv(\"db_port\")   \n",
    ")\n",
    "cursor = connection.cursor()"
   ]
  },
  {
   "cell_type": "code",
   "execution_count": 281,
   "metadata": {},
   "outputs": [],
   "source": [
    "create_table_query = \"\"\"\n",
    "CREATE TABLE IF NOT EXISTS lab_tests (\n",
    "    order_id TEXT PRIMARY KEY,\n",
    "    signout_date DATE,\n",
    "    lab_number TEXT,\n",
    "    assigned_to_pathologist TEXT,\n",
    "    patient_name TEXT,\n",
    "    facility TEXT,\n",
    "    test_category TEXT,\n",
    "    test TEXT,\n",
    "    sub_category TEXT,\n",
    "    receiving_centers TEXT,\n",
    "    processing_centers TEXT,\n",
    "    creation_date DATE,\n",
    "    creation_year TEXT,\n",
    "    creation_weekday TEXT,\n",
    "    service TEXT,\n",
    "    price FLOAT,\n",
    "    payment_method TEXT,\n",
    "    delay_days INT\n",
    ");\n",
    "\"\"\"\n"
   ]
  },
  {
   "cell_type": "code",
   "execution_count": 282,
   "metadata": {},
   "outputs": [],
   "source": [
    "cursor.execute(create_table_query)\n",
    "connection.commit()"
   ]
  },
  {
   "cell_type": "code",
   "execution_count": 283,
   "metadata": {},
   "outputs": [],
   "source": [
    "# 2. Create SQLAlchemy engine and use pandas.to_sql() ---\n",
    "db_url = f\"postgresql://{os.getenv('db_user')}:{os.getenv('db_pass')}@\" \\\n",
    "         f\"{os.getenv('db_host')}:{os.getenv('db_port')}/{os.getenv('db_name')}\"\n",
    "\n",
    "engine = create_engine(db_url)"
   ]
  },
  {
   "cell_type": "code",
   "execution_count": 284,
   "metadata": {},
   "outputs": [
    {
     "name": "stdout",
     "output_type": "stream",
     "text": [
      "Data successfully loaded into PostgreSQL database.\n"
     ]
    }
   ],
   "source": [
    "# Load DataFrame into PostgreSQL table\n",
    "data.to_sql('lab_tests', engine, if_exists='replace', index=False)\n",
    "\n",
    "print(\"Data successfully loaded into PostgreSQL database.\")"
   ]
  }
 ],
 "metadata": {
  "kernelspec": {
   "display_name": "venv",
   "language": "python",
   "name": "python3"
  },
  "language_info": {
   "codemirror_mode": {
    "name": "ipython",
    "version": 3
   },
   "file_extension": ".py",
   "mimetype": "text/x-python",
   "name": "python",
   "nbconvert_exporter": "python",
   "pygments_lexer": "ipython3",
   "version": "3.12.4"
  }
 },
 "nbformat": 4,
 "nbformat_minor": 2
}
